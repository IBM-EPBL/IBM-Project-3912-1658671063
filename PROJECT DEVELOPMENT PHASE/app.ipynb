{
 "cells": [
  {
   "cell_type": "code",
   "execution_count": 1,
   "id": "b1996e35",
   "metadata": {},
   "outputs": [],
   "source": [
    "import numpy as np\n",
    "import os\n",
    "from tensorflow.keras.models import load_model\n",
    "from tensorflow.keras.preprocessing import image\n",
    "from tensorflow.keras.applications.inception_v3 import preprocess_input\n",
    "from cloudant.client import  Cloudant\n",
    "\n",
    "from flask import Flask, request, render_template, redirect, url_for\n"
   ]
  },
  {
   "cell_type": "code",
   "execution_count": 9,
   "id": "03950cea",
   "metadata": {},
   "outputs": [
    {
     "name": "stdout",
     "output_type": "stream",
     "text": [
      " * Serving Flask app \"__main__\" (lazy loading)\n",
      " * Environment: production\n",
      "\u001b[31m   WARNING: This is a development server. Do not use it in a production deployment.\u001b[0m\n",
      "\u001b[2m   Use a production WSGI server instead.\u001b[0m\n",
      " * Debug mode: off\n"
     ]
    },
    {
     "name": "stderr",
     "output_type": "stream",
     "text": [
      " * Running on http://127.0.0.1:5000/ (Press CTRL+C to quit)\n",
      "127.0.0.1 - - [30/Oct/2022 12:45:40] \"GET / HTTP/1.1\" 200 -\n",
      "127.0.0.1 - - [30/Oct/2022 12:45:42] \"GET /login HTTP/1.1\" 200 -\n"
     ]
    },
    {
     "name": "stdout",
     "output_type": "stream",
     "text": [
      "9876543210 sss\n",
      "<cloudant.result.QueryResult object at 0x0000018A9970B9A0>\n",
      "1\n"
     ]
    },
    {
     "name": "stderr",
     "output_type": "stream",
     "text": [
      "127.0.0.1 - - [30/Oct/2022 12:45:50] \"POST /afterlogin HTTP/1.1\" 200 -\n"
     ]
    },
    {
     "name": "stdout",
     "output_type": "stream",
     "text": [
      "9876543210 ridhi\n",
      "<cloudant.result.QueryResult object at 0x0000018A8B648190>\n",
      "1\n"
     ]
    },
    {
     "name": "stderr",
     "output_type": "stream",
     "text": [
      "127.0.0.1 - - [30/Oct/2022 12:46:01] \"POST /afterlogin HTTP/1.1\" 200 -\n"
     ]
    },
    {
     "name": "stdout",
     "output_type": "stream",
     "text": [
      "9344956022 aaa\n",
      "<cloudant.result.QueryResult object at 0x0000018A978F1760>\n",
      "0\n"
     ]
    },
    {
     "name": "stderr",
     "output_type": "stream",
     "text": [
      "127.0.0.1 - - [30/Oct/2022 12:46:20] \"POST /afterlogin HTTP/1.1\" 200 -\n"
     ]
    }
   ],
   "source": [
    "app=Flask(__name__)\n",
    "\n",
    "client=Cloudant.iam('b882778b-7615-4d09-8ff2-5cbbd3143aab-bluemix','zOxl26IS0w74TTGt7KdwqKHPvpr5vgbDtYg1b3oBWHr8',connect=True)\n",
    "my_database = client['my_database']\n",
    "\n",
    "image_folder=os.path.join('static','images')\n",
    "app.config['UPLOAD_FOLDER'] = image_folder\n",
    "\n",
    "@app.route('/')\n",
    "def index():\n",
    "    full_filename = os.path.join(app.config['UPLOAD_FOLDER'], 'drimage.jpg')\n",
    "    return render_template('index.html',image=full_filename)\n",
    "\n",
    "@app.route('/index')\n",
    "def home():\n",
    "    full_filename = os.path.join(app.config['UPLOAD_FOLDER'], 'drimage.jpg')\n",
    "    return render_template('index.html',image=full_filename)\n",
    "\n",
    "@app.route('/register')\n",
    "def register():\n",
    "    full_filename = os.path.join(app.config['UPLOAD_FOLDER'], 'registerimg.jpg')\n",
    "    return render_template('register.html',image=full_filename)\n",
    "\n",
    "@app.route('/afterreg',methods=['POST','GET'])\n",
    "def afterreg():\n",
    "    x=[x for x in request.form.values()]\n",
    "    print(x)\n",
    "    data={\n",
    "        '_id':x[2],\n",
    "        'name':x[0],\n",
    "        'pwd':x[4],\n",
    "        'email':x[1],\n",
    "        'location':x[3]\n",
    "    }\n",
    "    print(data)\n",
    "    query={'_id':{'$eq':data['_id']}}\n",
    "    docs=my_database.get_query_result(query)\n",
    "    print(docs)\n",
    "    \n",
    "    print(len(docs.all()))\n",
    "    if(len(docs.all())==0):\n",
    "        url=my_database.create_document(data)\n",
    "        full_filename = os.path.join(app.config['UPLOAD_FOLDER'], 'loginimg.jpg')\n",
    "        return render_template('login.html',predict=\"Registration successfull please login using your credentials\",image=full_filename)\n",
    "    else:\n",
    "        full_filename = os.path.join(app.config['UPLOAD_FOLDER'], 'registerimg.jpg')\n",
    "        return render_template('register.html',pred=\"You are already a member login using your credentials\",image=full_filename)\n",
    "\n",
    "@app.route('/login')\n",
    "def login():\n",
    "    full_filename = os.path.join(app.config['UPLOAD_FOLDER'], 'loginimg.jpg')\n",
    "    return render_template('login.html',image=full_filename)\n",
    "\n",
    "@app.route('/afterlogin', methods=['POST','GET'])\n",
    "def afterlogin():\n",
    "    user=request.form['phoneno']\n",
    "    passw=request.form['pwd']\n",
    "    print(user,passw)\n",
    "    \n",
    "    query={'_id':{'$eq':user}}\n",
    "    docs=my_database.get_query_result(query)\n",
    "    print(docs)\n",
    "    \n",
    "    print(len(docs.all()))  \n",
    "    \n",
    "    if(len(docs.all())==0):\n",
    "        full_filename = os.path.join(app.config['UPLOAD_FOLDER'], 'loginimg.jpg')\n",
    "        return render_template('login.html',predict=\"Phone number not found\",image=full_filename)\n",
    "    else:\n",
    "        if((user==docs[0][0]['_id'] and passw==docs[0][0]['pwd'] )):\n",
    "            full_filename = os.path.join(app.config['UPLOAD_FOLDER'], 'retina.jpg')\n",
    "            full_filename1 = os.path.join(app.config['UPLOAD_FOLDER'], 'image6.png')\n",
    "            return render_template('prediction.html',image=full_filename,image2=full_filename1)\n",
    "        else:\n",
    "            full_filename = os.path.join(app.config['UPLOAD_FOLDER'], 'loginimg.jpg')\n",
    "            return render_template('login.html',image=full_filename,predict=\"Incorrect password\")\n",
    "            \n",
    "\n",
    "    \n",
    "\n",
    "@app.route('/prediction')\n",
    "def prediction():\n",
    "    full_filename = os.path.join(app.config['UPLOAD_FOLDER'], 'retina.jpg')\n",
    "    full_filename1 = os.path.join(app.config['UPLOAD_FOLDER'], 'image6.png')\n",
    "    return render_template('prediction.html',image=full_filename,image2=full_filename1)\n",
    "\n",
    "\n",
    "\n",
    "if __name__==\"__main__\":\n",
    "    app.run(debug=False)"
   ]
  },
  {
   "cell_type": "code",
   "execution_count": null,
   "id": "d240db65",
   "metadata": {},
   "outputs": [],
   "source": []
  },
  {
   "cell_type": "code",
   "execution_count": null,
   "id": "90eb06ab",
   "metadata": {},
   "outputs": [],
   "source": []
  }
 ],
 "metadata": {
  "kernelspec": {
   "display_name": "Python 3 (ipykernel)",
   "language": "python",
   "name": "python3"
  },
  "language_info": {
   "codemirror_mode": {
    "name": "ipython",
    "version": 3
   },
   "file_extension": ".py",
   "mimetype": "text/x-python",
   "name": "python",
   "nbconvert_exporter": "python",
   "pygments_lexer": "ipython3",
   "version": "3.9.12"
  }
 },
 "nbformat": 4,
 "nbformat_minor": 5
}
