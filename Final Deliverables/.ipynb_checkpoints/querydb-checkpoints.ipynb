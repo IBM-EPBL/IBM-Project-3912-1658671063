{
 "cells": [
  {
   "cell_type": "code",
   "execution_count": null,
   "metadata": {},
   "outputs": [],
   "source": [
    "from cloudant.client import  Cloudant\n",
    "client=Cloudant.iam('username','apikey',connect=True)\n",
    "my_database=client.create_database('my_database_query')"
   ]
  }
 ],
 "metadata": {
  "kernelspec": {
   "display_name": "Python 3.10.7 64-bit",
   "language": "python",
   "name": "python3"
  },
  "language_info": {
   "name": "python",
   "version": "3.10.7"
  },
  "orig_nbformat": 4,
  "vscode": {
   "interpreter": {
    "hash": "865edcce1bdbddb85a9a8c41ab471157080cbac16ba498a594f5ddd004ed46c3"
   }
  }
 },
 "nbformat": 4,
 "nbformat_minor": 2
}
